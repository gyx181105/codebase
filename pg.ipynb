{
 "cells": [
  {
   "cell_type": "code",
   "execution_count": 1,
   "metadata": {},
   "outputs": [],
   "source": [
    "import psycopg2\n",
    "import streamlit as st\n",
    "import pandas as pd"
   ]
  },
  {
   "cell_type": "code",
   "execution_count": 2,
   "metadata": {},
   "outputs": [],
   "source": [
    "# 全局变量\n",
    "# 基础表单的名称\n",
    "Base_Table = \"base_statistics\"\n",
    "# 日表单的名称\n",
    "Day_Table = \"daily_statistics\"\n",
    "# 周表单的名称\n",
    "Week_Table = \"weekly_statistics\" "
   ]
  },
  {
   "cell_type": "code",
   "execution_count": 3,
   "metadata": {},
   "outputs": [],
   "source": [
    "# PostgreSQL 连接信息\n",
    "def connect_to_postgresql():\n",
    "    # 如果用docker，需要实际的容器 IP 地址替换这里\n",
    "    DB_HOST = \"localhost\"\n",
    "    # 数据库端口号，通常是默认的 5432\n",
    "    DB_PORT = \"5432\"\n",
    "    # 数据库名称\n",
    "    DB_NAME = \"filecoin\"\n",
    "    # 数据库用户名\n",
    "    DB_USER = \"postgres\"\n",
    "    # 数据库密码\n",
    "    DB_PASS = \"901205\"\n",
    "    \n",
    "    try:\n",
    "        # 连接到 PostgreSQL 数据库\n",
    "        conn = psycopg2.connect(\n",
    "            host=DB_HOST,\n",
    "            port=DB_PORT,\n",
    "            dbname=DB_NAME,\n",
    "            user=DB_USER,\n",
    "            password=DB_PASS\n",
    "        )\n",
    "        return conn\n",
    "    except Exception as e:\n",
    "        print(f\"An error occurred while connecting to PostgreSQL: {str(e)}\")\n",
    "        return None"
   ]
  },
  {
   "cell_type": "code",
   "execution_count": 4,
   "metadata": {},
   "outputs": [],
   "source": [
    "# 查询函数，这部分用于构建之后所有计算的基础dataframe\n",
    "def query_data_from_postgresql(conn, table_name):\n",
    "    try:\n",
    "        # 构建 SQL 查询语句\n",
    "        query_base = f\"SELECT * FROM {table_name};\"\n",
    "        \n",
    "        # 查询数据\n",
    "        df = []\n",
    "        df = pd.read_sql_query(query_base, conn)\n",
    "        return df\n",
    "    except Exception as e:\n",
    "        print(f\"An error occurred while querying data: {str(e)}\")\n",
    "        return None"
   ]
  },
  {
   "cell_type": "code",
   "execution_count": 5,
   "metadata": {},
   "outputs": [],
   "source": [
    "# 计算日表函数，数据并返回一个包含新数据的 DataFrame \n",
    "def calculate_daily_statistics(df_base):\n",
    "    df_day = pd.DataFrame()\n",
    "    \n",
    "    # 复制基础数据列到 df_day\n",
    "    df_day['time'] = df_base['time']\n",
    "    df_day['node_id'] = df_base['node_id']\n",
    "    df_day['total_balance'] = df_base['total_balance']\n",
    "    df_day['ava_balance'] = df_base['ava_balance']\n",
    "    df_day['ini_pledge'] = df_base['ini_pledge']\n",
    "    df_day['lock_balance'] = df_base['lock_balance']\n",
    "    df_day['owner_balance'] = df_base['owner_balance']\n",
    "    df_day['power'] = df_base['power']\n",
    "    \n",
    "    # 使用 groupby 按照 node_id 分组\n",
    "    grouped = df_base.groupby('node_id')\n",
    "\n",
    "    # 计算变化和比率列\n",
    "    df_day['day_total_change'] = grouped['total_balance'].diff().round(2)\n",
    "    df_day['day_total_rate'] = ((df_day['day_total_change'] / grouped['total_balance'].shift(1)) * 100).round(2)\n",
    "    df_day['day_ava_change'] = grouped['ava_balance'].diff().round(2)\n",
    "    df_day['day_ava_rate'] = ((df_day['day_ava_change'] / grouped['ava_balance'].shift(1)) * 100).round(2)\n",
    "    df_day['day_ini_change'] = grouped['ini_pledge'].diff().round(2)\n",
    "    df_day['day_ini_rate'] = ((df_day['day_ini_change'] / grouped['ini_pledge'].shift(1)) * 100).round(2)\n",
    "    df_day['day_lock_change'] = grouped['lock_balance'].diff().round(2)\n",
    "    df_day['day_lock_rate'] = ((df_day['day_lock_change'] / grouped['lock_balance'].shift(1)) * 100).round(2)\n",
    "    df_day['day_owner_change'] = grouped['owner_balance'].diff().round(2)\n",
    "    df_day['day_owner_rate'] = ((df_day['day_owner_change'] / grouped['owner_balance'].shift(1)) * 100).round(2)\n",
    "    df_day['day_power_change'] = grouped['power'].diff().round(2)\n",
    "    df_day['day_power_rate'] = ((df_day['day_power_change'] / grouped['power'].shift(1)) * 100).round(2)\n",
    "\n",
    "    # 计算 day_luck（这个特殊），注意此处先计算，后分组\n",
    "    df_day['day_luck'] = (df_day['day_total_change'] / df_day['power'] / df_base['luck']).round(2)\n",
    "\n",
    "    # 再次使用 groupby 按照 node_id 分组\n",
    "    grouped_day = df_day.groupby('node_id')\n",
    "    df_day['day_luck_change'] = grouped_day['day_luck'].diff().round(2)\n",
    "    df_day['day_luck_rate'] = ((df_day['day_luck_change'] / df_day['day_luck'].shift(1)) * 100).round(2)\n",
    "\n",
    "    # 移除第一行 NaN 值\n",
    "    df_day = df_day.dropna()\n",
    "    \n",
    "    return df_day\n",
    "\n"
   ]
  },
  {
   "cell_type": "code",
   "execution_count": 6,
   "metadata": {},
   "outputs": [],
   "source": [
    "# 更新 daily_statistics 表的函数\n",
    "def update_daily_statistics(conn, df_day):\n",
    "    try:\n",
    "        cursor = conn.cursor()\n",
    "        for index, row in df_day.iterrows():\n",
    "            cursor.execute(\"\"\"\n",
    "                INSERT INTO daily_statistics\n",
    "                (time, node_id, total_balance, day_total_change, day_total_rate,\n",
    "                ava_balance, day_ava_change, day_ava_rate, ini_pledge, day_ini_change,\n",
    "                day_ini_rate, lock_balance, day_lock_change, day_lock_rate, owner_balance,\n",
    "                day_owner_change, day_owner_rate, power, day_power_change, day_power_rate,\n",
    "                day_luck, day_luck_change, day_luck_rate)\n",
    "                VALUES (%s, %s, %s, %s, %s, %s, %s, %s, %s, %s, %s, %s, %s, %s, %s, %s, %s, %s, %s, %s, %s, %s, %s)\n",
    "                \"\"\", (row['time'], row['node_id'], row['total_balance'], row['day_total_change'], row['day_total_rate'],\n",
    "                    row['ava_balance'], row['day_ava_change'], row['day_ava_rate'], row['ini_pledge'], row['day_ini_change'],\n",
    "                    row['day_ini_rate'], row['lock_balance'], row['day_lock_change'], row['day_lock_rate'], row['owner_balance'],\n",
    "                    row['day_owner_change'], row['day_owner_rate'], row['power'], row['day_power_change'], row['day_power_rate'],\n",
    "                    row['day_luck'], row['day_luck_change'], row['day_luck_rate']))\n",
    "        \n",
    "        conn.commit()\n",
    "        print(\"Data successfully updated in daily_statistics.\")\n",
    "    except Exception as e:\n",
    "        print(f\"An error occurred while updating daily statistics: {str(e)}\")\n"
   ]
  },
  {
   "cell_type": "code",
   "execution_count": null,
   "metadata": {},
   "outputs": [],
   "source": [
    "# 主函数开始运行\n",
    "# def main():"
   ]
  },
  {
   "cell_type": "code",
   "execution_count": 7,
   "metadata": {},
   "outputs": [
    {
     "name": "stdout",
     "output_type": "stream",
     "text": [
      "<connection object at 0x00000230C396D030; dsn: 'user=postgres password=xxx dbname=filecoin host=localhost port=5432', closed: 0>\n"
     ]
    }
   ],
   "source": [
    "# 连接到 PostgreSQL\n",
    "conn = connect_to_postgresql()\n",
    "print (conn)"
   ]
  },
  {
   "cell_type": "code",
   "execution_count": 8,
   "metadata": {},
   "outputs": [
    {
     "name": "stdout",
     "output_type": "stream",
     "text": [
      "An error occurred while querying data: Execution failed on sql 'SELECT * FROM base_statistics;': 错误:  关系 \"base_statistics\" 不存在\n",
      "LINE 1: SELECT * FROM base_statistics;\n",
      "                      ^\n",
      "\n",
      "None\n"
     ]
    },
    {
     "name": "stderr",
     "output_type": "stream",
     "text": [
      "C:\\Users\\gx\\AppData\\Local\\Temp\\ipykernel_13016\\2009684446.py:9: UserWarning: pandas only supports SQLAlchemy connectable (engine/connection) or database string URI or sqlite3 DBAPI2 connection. Other DBAPI2 objects are not tested. Please consider using SQLAlchemy.\n",
      "  df = pd.read_sql_query(query_base, conn)\n"
     ]
    }
   ],
   "source": [
    "# 生成基础表单的df数据\n",
    "if conn is not None:\n",
    "    # 指定要查询的表名\n",
    "    base_table_name = Base_Table\n",
    "\n",
    "    # 执行查询函数，生成基础数据df表单\n",
    "    df_base = query_data_from_postgresql(conn, base_table_name)\n",
    "    print(df_base)"
   ]
  },
  {
   "cell_type": "code",
   "execution_count": null,
   "metadata": {},
   "outputs": [],
   "source": [
    "if df_base is not None:\n",
    "    # 执行日计算函数，生成日表单\n",
    "    df_day = calculate_daily_statistics(df_base)\n",
    "    print(df_day)"
   ]
  },
  {
   "cell_type": "code",
   "execution_count": null,
   "metadata": {},
   "outputs": [],
   "source": [
    "# 调用函数更新 daily_statistics 表\n",
    "update_daily_statistics(conn, df_day)            \n",
    "# 查看更新后的 daily_statistics 表\n",
    "day_table_name = Day_Table\n",
    "df_day_ = query_data_from_postgresql(conn, day_table_name)"
   ]
  },
  {
   "cell_type": "code",
   "execution_count": null,
   "metadata": {},
   "outputs": [],
   "source": [
    "# 关闭数据库连接\n",
    "conn.close()"
   ]
  }
 ],
 "metadata": {
  "kernelspec": {
   "display_name": "streamlit",
   "language": "python",
   "name": "python3"
  },
  "language_info": {
   "codemirror_mode": {
    "name": "ipython",
    "version": 3
   },
   "file_extension": ".py",
   "mimetype": "text/x-python",
   "name": "python",
   "nbconvert_exporter": "python",
   "pygments_lexer": "ipython3",
   "version": "3.10.9"
  }
 },
 "nbformat": 4,
 "nbformat_minor": 2
}
